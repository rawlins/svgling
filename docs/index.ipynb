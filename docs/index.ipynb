{
 "cells": [
  {
   "cell_type": "raw",
   "metadata": {},
   "source": [
    "---\n",
    "title: \"The `svgling` package: Linguistic tree diagrams in python + SVG\"\n",
    "date: 2023-10-07\n",
    "author:\n",
    "  - name: Kyle Rawlins\n",
    "    email: kgr@jhu.edu\n",
    "toc: true\n",
    "number-sections: true\n",
    "format:\n",
    "  html:\n",
    "    code-fold: false\n",
    "jupyter: python3\n",
    "---"
   ]
  },
  {
   "cell_type": "markdown",
   "metadata": {},
   "source": [
    "::: {.content-hidden}\n",
    "\n",
    "Note! This document in is partly in `quarto`-flavored markdown and can be used with the `quarto` package to generate a rendered version overview. For this reason you will see occasional raw cells and things like the first line of this cell that will render oddly as a plain jupyter notebook.\n",
    "\n",
    "# Overview of `svgling`\n",
    "\n",
    "Author: **Kyle Rawlins, [kgr@jhu.edu](kgr@jhu.edu)**\n",
    ":::"
   ]
  },
  {
   "cell_type": "code",
   "execution_count": null,
   "metadata": {},
   "outputs": [],
   "source": [
    "#| echo: false\n",
    "import svgling\n",
    "svgling.draw_tree((\"S\", (\"NP\", (\"D\", \"the\"), (\"N\", \"elephant\")), (\"VP\", (\"V\", \"saw\"), (\"NP\", (\"D\", \"the\"), (\"N\", \"rhinoceros\")))))"
   ]
  },
  {
   "cell_type": "markdown",
   "metadata": {},
   "source": [
    "# Package overview"
   ]
  },
  {
   "cell_type": "markdown",
   "metadata": {},
   "source": [
    "The `svgling` package is a pure python package for rendering linguistics-style (constituent) trees in [SVG (Scalable Vector\n",
    "Graphics)](https://www.w3.org/Graphics/SVG/), a standardized vector format well-suited for web use. It accepts trees defined in terms of lists of lists (really, anything indexable) and strings, as well as `nltk.Tree` objects (or anything with the same API), and is fully integrated with rich display in Jupyter notebooks. This document gives a quick tour of how to use it and some main features; see the full manual for more.\n",
    "\n",
    "The package has three main design principles, which together make it relatively unique:\n",
    "\n",
    "1. Be well suited for *programmatic* generation of tree diagrams via a high-level python api. This means that (a) many tweaks to tree layout are possible via compact and readable python code, and (b) the default settings with no customization should look decent to good on a very wide range of trees and tree styles across all browsers and SVG viewers.\n",
    "2. Be equally suited for theoretical linguistics and computational linguistics/NLP, at least for cases where the latter is targeting constituent trees. (This package is not aimed at dependency trees.)\n",
    "3. Do as much as possible with pure python (as opposed to python+javascript, or python+tk, or python+dot, or...).\n",
    "\n",
    "The `nltk` interface is described below; the list interface is pretty straightforward from bracketing notation. (In what follows, \"list\" is used a generic term that covers any indexable structure, including python lists and tuples.) The first element of the list is the label of a parent node, and any subsequent members of the list are daughter nodes. A parent node without a daughter node is a leaf node (as are non-list strings)."
   ]
  },
  {
   "cell_type": "markdown",
   "metadata": {},
   "source": [
    "## Installation and logistics\n",
    "\n",
    "To install the [release version](https://pypi.org/project/svgling/) from PyPI, use the `pip` command line tool: `pip install svgling`. On managed jupyter-based systems such as google colab, you can install by entering `!pip install svgling` into a notebook cell. The current unreleased version of `svgling` can also be installed from source via the github repository: [https://github.com/rawlins/svgling](https://github.com/rawlins/svgling). On a managed system, the simplest way to do this is to run `!pip install git+https://github.com/rawlins/svgling`. Please **report bugs** on that repository via [the issue tracker on github](https://github.com/rawlins/svgling/issues) if you encounter any!\n",
    "\n",
    "Once it is installed, to activate the package, you can run:"
   ]
  },
  {
   "cell_type": "code",
   "execution_count": null,
   "metadata": {},
   "outputs": [],
   "source": [
    "import svgling"
   ]
  },
  {
   "cell_type": "markdown",
   "metadata": {},
   "source": [
    "If you would like to reset tree drawing options to the default on import, you can call:"
   ]
  },
  {
   "cell_type": "code",
   "execution_count": null,
   "metadata": {},
   "outputs": [],
   "source": [
    "svgling.core.reset_defaults()"
   ]
  },
  {
   "cell_type": "markdown",
   "metadata": {},
   "source": [
    "## Basic usage"
   ]
  },
  {
   "cell_type": "markdown",
   "metadata": {},
   "source": [
    "For convenient use in Jupyter notebooks, the main function to try is `svgling.draw_tree`:"
   ]
  },
  {
   "cell_type": "code",
   "execution_count": null,
   "metadata": {},
   "outputs": [],
   "source": [
    "svgling.draw_tree((\"S\", \"NP\", \"VP\"))"
   ]
  },
  {
   "cell_type": "markdown",
   "metadata": {},
   "source": [
    "As a shortcut, the outer bracketing here can be omitted:"
   ]
  },
  {
   "cell_type": "code",
   "execution_count": null,
   "metadata": {},
   "outputs": [],
   "source": [
    "svgling.draw_tree(\"S\", \"NP\", (\"VP\", \"V\"))"
   ]
  },
  {
   "cell_type": "markdown",
   "metadata": {},
   "source": [
    "Multi-line nodes are generally possible. Simply provide the node as a string that includes `\\n` where a linebreak is desired. The next example, a more complex tree with multi-line leaf nodes, also shows how to get the leaf nodes to be lined up with each other. (This tree is from Carnie 2013, *Syntax: a generative introduction (3rd ed.)*, p. 93.)"
   ]
  },
  {
   "cell_type": "code",
   "execution_count": null,
   "metadata": {},
   "outputs": [],
   "source": [
    "svgling.draw_tree(\"TP\", (\"NP\", \"D\\nThe\", (\"AdjP\", (\"AdvP\", \"Adv\\nvery\"), \"Adj\\nsmall\"), \"N\\nboy\"), (\"VP\", \"V\\nkissed\", (\"NP\", \"D\\nthe\", \"N\\nplatypus\")), leaf_nodes_align=True)"
   ]
  },
  {
   "cell_type": "markdown",
   "metadata": {},
   "source": [
    "## More advanced tricks\n",
    "\n",
    "The `svgling` package supports a wide range of complex formatting as well as \"tree annotations\" like movement arrows. The following example provides a quick illustration; see the full package manual for a complete list of possible formatting options.\n",
    "\n",
    "This example illustrates a typical tree for Quantifier Raising in the Heim & Kratzer 1998 (\"Semantics in Generative Grammar\") style, illustrating movement arrows and tree annotation from the `svgling.figure` module.\n",
    "[See [the diagram gallery](https://rawlins.github.io/svgling/gallery.html) for an even more elaborate variant of this example.]{.aside}"
   ]
  },
  {
   "cell_type": "code",
   "execution_count": null,
   "metadata": {},
   "outputs": [],
   "source": [
    "t2 = (\"TP\", (\"DP\", (\"D\", \"every\"), (\"NP\", (\"N\", \"cat\"))),\n",
    "           (\"TP\", \"1\", (\"TP\", (\"DP\", (\"D\", \"some\"), (\"NP\", (\"N\", \"dog\"))),\n",
    "                     (\"TP\", \"3\", (\"TP\", (\"DP\", svgling.core.subscript_node(\"t\", \"1\")),\n",
    "                                  (\"VP\", (\"V\", \"likes\"), (\"DP\", svgling.core.subscript_node(\"t\", \"3\"))))))))\n",
    "\n",
    "svgling.core.reset_defaults() # reset any defaults in case this is run out of order\n",
    "f = svgling.core.cssfont(\"verdana, arial, sans-serif\", style=\"oblique\")\n",
    "\n",
    "(svgling.draw_tree(t2, leaf_padding=3) # use a slightly wider padding than the default\n",
    "    # mark binders and traces in red\n",
    "    .set_node_style((1,0), text_color=\"red\")\n",
    "    .set_node_style((1,1,1,0), text_color=\"red\")\n",
    "    .set_node_style((1,1,1,1,0,0), text_color=\"red\")\n",
    "    .set_node_style((1,1,1,1,1,1,0), text_color=\"red\")\n",
    "    # set leaf nodes in bold sans-serif\n",
    "    .set_leaf_style(font_style=f)\n",
    "    # draw movement arrows and underline moved constituents\n",
    "    .movement_arrow((1,1,1,1,0), (0,))\n",
    "    .underline_constituent((0,))\n",
    "    .movement_arrow((1,1,1,1,1,1), (1,1,0))\n",
    "    .underline_constituent((1,1,0)))"
   ]
  },
  {
   "cell_type": "markdown",
   "metadata": {},
   "source": [
    "# Integration with other packages\n",
    "\n",
    "`svgling` is designed to be used with Jupyter out of the box, and any Jupyter frontend or rendering engine that supports rich display objects and SVG (Jupyter Lab, Jupyter nbconvert, quarto+html, VSCode, Colab, etc) should be able to handle any of the core diagram features. In fact, this website is generated entirely via Jupyter+quarto. Please [report](https://github.com/rawlins/svgling/issues) incompatibilities!"
   ]
  },
  {
   "cell_type": "markdown",
   "metadata": {},
   "source": [
    "## Integration with NLTK\n",
    "\n",
    "The `svgling` package is well-integrated with the `nltk` (https://www.nltk.org/) package. This package uses `svgling` for rendering of `nltk.tree.Tree` objects in Jupyter by default (using it to implement a `_repr_svg_()`, and `svgling` supports `nltk.tree.Tree` objects in any context where a tree can be provided."
   ]
  },
  {
   "cell_type": "code",
   "execution_count": null,
   "metadata": {},
   "outputs": [],
   "source": [
    "import nltk\n",
    "t3 = nltk.Tree.fromstring(\"(S (NP (D the) (N elephant)) (VP (V saw) (NP (D the) (N rhinoceros))))\")\n",
    "t3"
   ]
  },
  {
   "cell_type": "markdown",
   "metadata": {},
   "source": [
    "Options available as named parameters can also be set on a global basis by modifying the options object at `svgling.core.default_options`, and this provides a quick way to change settings for nltk trees. For example, to change font size for all rendered trees:\n",
    "\n",
    "```python\n",
    "svgling.core.default_options.font_size = 20\n",
    "```\n",
    "\n",
    "Global defaults can be reset via `svgling.core.reset_defaults()`.\n",
    "\n",
    "For more complex styling of nltk trees, including tree annotations, you can directly supply a `nltk.tree.Tree` object to `svgling.draw_tree`:"
   ]
  },
  {
   "cell_type": "code",
   "execution_count": null,
   "metadata": {},
   "outputs": [],
   "source": [
    "svgling.draw_tree(t3, leaf_nodes_align=True).box_constituent((0,))"
   ]
  },
  {
   "cell_type": "markdown",
   "metadata": {},
   "source": [
    "Other parts of `svgling` support `Tree`s as well, in particular, the `svgling.figure` utility classes."
   ]
  },
  {
   "cell_type": "markdown",
   "metadata": {},
   "source": [
    "## Exporting to raster formats\n",
    "\n",
    "The `svgling` packages supports exporting to raster formats via `cairosvg`. Convenience wrappers are provided via `svgling.util`, and the full `cairosvg` api can be used as well. See the manual for more details, but here is an example of one of `t3` as a png:"
   ]
  },
  {
   "cell_type": "code",
   "execution_count": null,
   "metadata": {},
   "outputs": [],
   "source": [
    "import cairosvg # this cell needs cairosvg in order to run\n",
    "import svgling.utils, svgling.semantics\n",
    "from IPython.display import Image\n",
    "t = svgling.semantics.DoubleBrackets(t3)\n",
    "Image(svgling.utils.svg2png(t, scale=1.5))"
   ]
  },
  {
   "cell_type": "markdown",
   "metadata": {},
   "source": [
    "# Future directions for `svgling`\n",
    "\n",
    "For core syntactic tree-drawing goals, `svgling` is relatively feature complete. However, there are many possible future additions, and SVG is an extremely powerful and flexible drawing tool. If you have specific requests, let me know, either via the [issue tracker](https://github.com/rawlins/svgling/issues) or via email.\n",
    "\n",
    "Here are some possible future additions, to give a sample. Pull requests are welcome!\n",
    "\n",
    "* labels along edges\n",
    "* api for more fine-grained manual spacing adjustment\n",
    "* support for linguistic diagrams from phonology and morphology. (There is already some limited support for semantics-related diagrams.)\n",
    "* (harder) more automatic resizing of trees via Javascript\n",
    "* (harder) put MathJax/katex output in SVG nodes, perhaps using SVG `foreignObject`. (Right now, there is support for trees with latex content via the `svgling.html` package.)\n",
    "* (very hard) allow interactive positioning of nodes or trees via javascript.\n",
    "* (doable but a lot of work) dependency parsing graphs"
   ]
  },
  {
   "cell_type": "code",
   "execution_count": null,
   "metadata": {},
   "outputs": [],
   "source": []
  }
 ],
 "metadata": {
  "kernelspec": {
   "display_name": "Python 3 (ipykernel)",
   "language": "python",
   "name": "python3"
  },
  "language_info": {
   "codemirror_mode": {
    "name": "ipython",
    "version": 3
   },
   "file_extension": ".py",
   "mimetype": "text/x-python",
   "name": "python",
   "nbconvert_exporter": "python",
   "pygments_lexer": "ipython3",
   "version": "3.12.0"
  }
 },
 "nbformat": 4,
 "nbformat_minor": 4
}
