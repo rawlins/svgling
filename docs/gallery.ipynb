{
 "cells": [
  {
   "cell_type": "raw",
   "metadata": {},
   "source": [
    "---\n",
    "title: \"`svgling` diagram gallery\"\n",
    "date: 2023-11-11\n",
    "author:\n",
    "  - name: Kyle Rawlins\n",
    "    email: kgr@jhu.edu\n",
    "toc: false\n",
    "format:\n",
    "  html:\n",
    "    code-fold: true\n",
    "jupyter: python3\n",
    "bibliography: svgling.bib\n",
    "citation-location: margin\n",
    "html-math-method:\n",
    "  method: mathjax\n",
    "---"
   ]
  },
  {
   "cell_type": "code",
   "execution_count": null,
   "metadata": {
    "tags": []
   },
   "outputs": [],
   "source": [
    "import svgling\n",
    "from svgling import draw_tree\n",
    "from svgling.figure import Caption, SideBySide, RowByRow\n",
    "from svgling.core import subscript_node"
   ]
  },
  {
   "cell_type": "markdown",
   "metadata": {},
   "source": [
    "::: {.content-hidden}\n",
    "\n",
    "Note! This document in is partly in `quarto`-flavored markdown and can be used with the `quarto` package to generate a rendered version overview. For this reason you will see occasional raw cells and things like the first line of this cell that will render oddly as a plain jupyter notebook.\n",
    "# `svgling` diagram gallery\n",
    ":::"
   ]
  },
  {
   "cell_type": "markdown",
   "metadata": {},
   "source": [
    "This gallery provides several examples of relatively complex SVG tree diagrams rendering using the [`svgling` package](https://github.com/rawlins/svgling). To begin with, here is an example from @Carnie12 that illustrates multiline nodes paired with aligned leaf nodes."
   ]
  },
  {
   "cell_type": "code",
   "execution_count": null,
   "metadata": {
    "tags": []
   },
   "outputs": [],
   "source": [
    "Caption(draw_tree(\"TP\", (\"NP\", \"D\\nThe\", (\"AdjP\", (\"AdvP\", \"Adv\\nvery\"), \"Adj\\nsmall\"), \"N\\nboy\"), (\"VP\", \"V\\nkissed\", (\"NP\", \"D\\nthe\", \"N\\nplatypus\")),\n",
    "                  leaf_nodes_align=True),\n",
    "        \"Tree from Carnie 2012, p. 93\")"
   ]
  },
  {
   "cell_type": "markdown",
   "metadata": {},
   "source": [
    "The following example illustrates Quantifier Raising (QR) in the style of @HeimKratzer98, involving movement arrows, subfigures, and subtree highlighting."
   ]
  },
  {
   "cell_type": "code",
   "execution_count": null,
   "metadata": {
    "tags": []
   },
   "outputs": [],
   "source": [
    "qrtree0 = (\"TP\", (\"DP\", (\"D\", \"every\"), (\"NP\", (\"N\", \"cat\"))),\n",
    "                                   (\"VP\", (\"V\", \"likes\"), (\"DP\", (\"D\", \"some\"), (\"NP\", (\"N\", \"dog\")))))\n",
    "out0 = Caption(draw_tree(qrtree0), \"LF input (= Surface Structure)\")\n",
    "\n",
    "qrtree1 = (\"TP\", (subscript_node(\"DP\", \"1\"), (\"D\", \"every\"), (\"NP\", (\"N\", \"cat\"))),\n",
    "                                   (\"VP\", (\"V\", \"likes\"), (subscript_node(\"DP\", \"3\"), (\"D\", \"some\"), (\"NP\", (\"N\", \"dog\")))))\n",
    "out1 = draw_tree(qrtree1)\n",
    "out1.box_constituent((0,))\n",
    "out1.box_constituent((1,1))\n",
    "out1 = Caption(out1, \"Step 1: free indexing (1 of 2 indexings)\")\n",
    "\n",
    "qrtree2 = (\"TP\", (\"DP\", (\"D\", \"some\"), (\"NP\", (\"N\", \"dog\"))),\n",
    "                      (\"TP\", \"3\", (\"TP\", (subscript_node(\"DP\", \"1\"), (\"D\", \"every\"), (\"NP\", (\"N\", \"cat\"))),\n",
    "                                   (\"VP\", (\"V\", \"likes\"), (\"DP\", subscript_node(\"t\", \"3\"))))))\n",
    "out2 = draw_tree(qrtree2)\n",
    "out2.movement_arrow((1,1,1,1), (0,))\n",
    "out2.box_constituent((0,))\n",
    "out2.box_constituent((1,1,0))\n",
    "out2 = Caption(out2, \"Step 2: QR an indexed DP (choosing the object)\")\n",
    "\n",
    "qrtree3 = (\"TP\", (\"DP\", (\"D\", \"every\"), (\"NP\", (\"N\", \"cat\"))),\n",
    "           (\"TP\", \"1\", (\"TP\", (\"DP\", (\"D\", \"some\"), (\"NP\", (\"N\", \"dog\"))),\n",
    "                     (\"TP\", \"3\", (\"TP\", (\"DP\", subscript_node(\"t\", \"1\")), (\"VP\", (\"V\", \"likes\"), (\"DP\", subscript_node(\"t\", \"3\"))))))))\n",
    "out3 = draw_tree(qrtree3)\n",
    "out3.movement_arrow((1,1,1,1,0), (0,))\n",
    "out3.box_constituent((0,))\n",
    "out3.movement_arrow((1,1,1,1,1,1), (1,1,0))\n",
    "out3.box_constituent((1,1,0))\n",
    "out3 = Caption(out3, \"Step 3: QR an indexed DP (choosing the subject).\")\n",
    "\n",
    "Caption(RowByRow(SideBySide(out0, out1), SideBySide(out2,out3)), \"Trees illustrating a QR (Quantifier Raising) derivation in the Heim & Kratzer 1998 style\")"
   ]
  },
  {
   "cell_type": "markdown",
   "metadata": {},
   "source": [
    "The following example, based on a tree from @McCloskey00, demonstrates multi-headed movement arrows."
   ]
  },
  {
   "cell_type": "code",
   "execution_count": null,
   "metadata": {
    "tags": []
   },
   "outputs": [],
   "source": [
    "mccloskey = (\"FP\", (\"F\", (\"V\", \"put\")),\n",
    "             (\"AgrOP\", (subscript_node(\"DP\", \"Obj\"), \"milk\"),\n",
    "              (\"\", (\"AgrO\", subscript_node(\"t\", \"V\")),\n",
    "               (\"VP\", subscript_node(\"t\", \"Subj\"), (\"\", subscript_node(\"t\", \"V\"),\n",
    "                                  (\"VP\", (\"PP\", \"in it\"), (\"\", (\"V\", subscript_node(\"t\", \"V\")), subscript_node(\"t\", \"Obj\"))))))))\n",
    "\n",
    "# TODO: AgrOP should be set with a subscript O, currently not supported.\n",
    "out = draw_tree(mccloskey)\n",
    "out.set_edge_style((1,0,0), svgling.core.TriangleEdge())\n",
    "out.set_edge_style((1,1,1,1,1,0,0), svgling.core.TriangleEdge())\n",
    "out.movement_arrow((1,1,1,1,1,1,0,0), (1,1,0,0))\n",
    "out.movement_arrow((1,1,0,0), (0,0,0))\n",
    "out.movement_arrow((1,1,1,1,1,1,1), (1,0))\n",
    "Caption(out, \"Tree after ex. 58 of McCloskey (2000)\")"
   ]
  },
  {
   "cell_type": "markdown",
   "metadata": {},
   "source": [
    "The following example, which is based on a PCFG example from the classic @Hale01 account of garden path sentences, illustrates how to use a custom tree parsing function together with a non-default node renderer. An `nltk` probabilistic parser returns a subclass of tree that uses `label()` normally, but also has a probability value indicating the \"inside probability\" of the subtree given its constituents. There's a provided function `svgling.core.ptree_split` that renders such trees in an ugly but functional way; this example improves on that a bit by using subscripts.\n",
    "\n",
    "The example constructs a `nltk.grammar.PCFG` object based on an example in @Hale01, parses a sentence using that PCFG, and draws the resulting tree incorporating inside probabilities into the node labels."
   ]
  },
  {
   "cell_type": "code",
   "execution_count": null,
   "metadata": {},
   "outputs": [],
   "source": [
    "import nltk, nltk.parse\n",
    "from nltk.grammar import PCFG\n",
    "\n",
    "# note: this is a binarized version of an example grammar due to Hale in the cited paper.\n",
    "hale1 = PCFG.fromstring(\"\"\"\n",
    "    S0 -> S '.'     [1.0]\n",
    "    S -> NP VP     [1.0]\n",
    "    NP -> DT NN    [0.88]\n",
    "    NP -> NP VP    [0.12]\n",
    "    PP -> IN NP    [1.0]\n",
    "    VP -> VBD PP   [0.17]\n",
    "    VP -> VBN PP   [0.75]\n",
    "    VP -> VBD      [0.08]\n",
    "    DT -> 'the'    [1.0]\n",
    "    NN -> 'horse'  [0.5]\n",
    "    NN -> 'barn'   [0.5]\n",
    "    VBD -> 'fell'  [0.5]\n",
    "    VBD -> 'raced' [0.5]\n",
    "    VBN -> 'raced' [1.0]\n",
    "    IN -> 'past'   [1.0]\n",
    "    \"\"\")\n",
    "# parse \"The horse raced past the barn fell.\" using one of nltk's chart parsers:\n",
    "hale1_parser = nltk.parse.pchart.InsideChartParser(hale1)\n",
    "parses = list(hale1_parser.parse(\"the horse raced past the barn fell .\".split()))\n",
    "\n",
    "def ptree_split2(t):\n",
    "    try:\n",
    "        return (svgling.core.subscript_node(f\"{t.label()}\", f\"p={t.prob()}\", scale=0.85), list(t))\n",
    "    except AttributeError:\n",
    "        # indicate that this function doesn't handle `t`. (Leaf nodes of this tree\n",
    "        # class are `str` -- this leaves them to the default node parser.)\n",
    "        return None\n",
    "\n",
    "svgling.draw_tree(parses[0], tree_split=ptree_split2)"
   ]
  },
  {
   "cell_type": "markdown",
   "metadata": {},
   "source": [
    "## Hybrid svg/html diagram examples\n",
    "\n",
    "The following tree is a typical example of how compositional semantics might be integrated into a tree structure in formal semantics. This tree is not pure SVG (which doesn't support latex code), but is rendered using `svgling.html`."
   ]
  },
  {
   "cell_type": "code",
   "execution_count": null,
   "metadata": {},
   "outputs": [],
   "source": [
    "import svgling.html\n",
    "svgling.html.compat(svgling.html.Compat.USE_MARKDOWN) # needed for quarto\n",
    "from svgling.html import multiline_text as ml\n",
    "\n",
    "def math(s):\n",
    "    # note: we are in markdown mode, so using delimiters with backslashes becomes harder...\n",
    "    return f\"${s}$\"\n",
    "\n",
    "svgling.html.draw_tree(\n",
    "    ml(math(r\"\\text{Saw}(\\iota x_e{:\\:}\\text{Elephant}(x),\\iota x_e{:\\:}\\text{Rhino}(x))\"), math(r\"\\text{Type: }t\")),\n",
    "    (ml(math(r\"\\iota x_e{:\\:}\\text{Elephant}(x)\"), math(r\"\\text{Type: }e\")),\n",
    "         ml(math(r\"\\lambda f_{\\langle e,t \\rangle }{:\\:}\\iota x_e{:\\:}f(x)\"),\n",
    "            math(r\"\\text{Type: }\\langle \\langle e,t\\rangle ,e\\rangle\")),\n",
    "         ml(math(r\"\\lambda x_e{:\\:}\\text{Elephant}(x)\"), math(r\"\\text{Type: }\\langle e,t\\rangle\"))),\n",
    "    (ml(math(r\"\\lambda x_e{:\\:}\\text{Saw}(x,\\iota x_e{:\\:}\\text{Rhino}(x))\"), math(r\"\\text{Type: }\\langle e,t\\rangle\")),\n",
    "         ml(math(r\"\\lambda y_e{:\\:}\\lambda x_e{:\\:}\\text{Saw}(x,y)\"),\n",
    "            math(r\"\\text{Type: }\\langle e,\\langle e,t\\rangle\\rangle\")),\n",
    "         (ml(math(r\"\\iota x_e{:\\:}\\text{Rhino}(x)\"), math(r\"\\text{Type: }e\")),\n",
    "              ml(math(r\"\\lambda f_{\\langle e,t \\rangle }{:\\:}\\iota x_e{:\\:}f(x)\"),\n",
    "                 math(r\"\\text{Type: }\\langle \\langle e,t\\rangle ,e\\rangle\")),\n",
    "              ml(math(r\"\\lambda x_e{:\\:}\\text{Rhino}(x)\"), math(r\"\\text{Type: }\\langle e,t\\rangle\")))))\n"
   ]
  },
  {
   "cell_type": "markdown",
   "metadata": {},
   "source": [
    "::: {.content-hidden}\n",
    "\n",
    "The following example, which is based on a PCFG example from the classic @Hale01 account of garden path sentences, illustrates how to use a custom node rendering function together with `svgling.html`. An `nltk` probabilistic parser returns a subclass of tree that uses `label()` normally, but also has a probability value indicating the \"inside probability\" of the subtree given its constituents. The example constructs a PCFG based on @Hale01, parses a sentence using that PCFG, and draws the resulting tree incorporating inside probabilities.\n",
    "\n",
    ":::"
   ]
  },
  {
   "cell_type": "code",
   "execution_count": null,
   "metadata": {},
   "outputs": [],
   "source": [
    "#| echo: false\n",
    "#| output: false\n",
    "# I cannot for the life of me get this example to work in quarto, it just freezes. For now, suppress it from the web docs...\n",
    "import nltk, nltk.parse\n",
    "from nltk.grammar import PCFG\n",
    "from IPython.display import HTML\n",
    "import svgling.html, svgling.figure\n",
    "\n",
    "# note: this is a binarized version of an example grammar due to Hale; svgling.html only supports binary trees\n",
    "hale1 = PCFG.fromstring(\"\"\"\n",
    "    S0 -> S '.'     [1.0]\n",
    "    S -> NP VP     [1.0]\n",
    "    NP -> DT NN    [0.88]\n",
    "    NP -> NP VP    [0.12]\n",
    "    PP -> IN NP    [1.0]\n",
    "    VP -> VBD PP   [0.17]\n",
    "    VP -> VBN PP   [0.75]\n",
    "    VP -> VBD      [0.08]\n",
    "    DT -> 'the'    [1.0]\n",
    "    NN -> 'horse'  [0.5]\n",
    "    NN -> 'barn'   [0.5]\n",
    "    VBD -> 'fell'  [0.5]\n",
    "    VBD -> 'raced' [0.5]\n",
    "    VBN -> 'raced' [1.0]\n",
    "    IN -> 'past'   [1.0]\n",
    "    \"\"\")\n",
    "# parse \"The horse raced past the barn fell.\" using one of nltk's chart parsers:\n",
    "hale1_parser = nltk.parse.pchart.InsideChartParser(hale1)\n",
    "parses = list(hale1_parser.parse(\"the horse raced past the barn fell .\".split()))\n",
    "\n",
    "# now draw the tree using a custom node rendering function that incorporates both the label and the probability\n",
    "def ptree_split_html(t):\n",
    "    nodestyle = 'text-align:center;background-color:lightgray;border-radius:10px;padding: 0px 20px 0px 20px;margin: 0px 10px 0px 10px;'\n",
    "    try:\n",
    "        # separate out the styling just for readability\n",
    "        nodestyle = 'text-align:center;background-color:lightgray;border-radius:20px;padding: 0px 20px 0px 20px;margin: 0px 10px 0px 10px;'\n",
    "        return (HTML(f\"<div style=\\\"{nodestyle}\\\"><span>{t.label()}</span><br /><span style=\\\"font-size: x-small;\\\">$p={t.prob()}$</span></div>\"), list(t))\n",
    "    except AttributeError:\n",
    "        # handle leaf nodes, which are strings\n",
    "        if isinstance(t, str):\n",
    "            return (HTML(f\"<div style=\\\"{nodestyle}\\\"><span>{t}</span></div>\"), ())\n",
    "        return None\n",
    "\n",
    "svgling.html.draw_tree(parses[0], tree_split=ptree_split_html, distance_to_daughter=1.5)"
   ]
  },
  {
   "cell_type": "markdown",
   "metadata": {},
   "source": [
    "## More diagrams?\n",
    "\n",
    "I'd be excited to get both new diagram requests, and PRs for new diagrams: [https://github.com/rawlins/svgling](https://github.com/rawlins/svgling)."
   ]
  },
  {
   "cell_type": "code",
   "execution_count": null,
   "metadata": {},
   "outputs": [],
   "source": []
  }
 ],
 "metadata": {
  "kernelspec": {
   "display_name": "Python 3 (ipykernel)",
   "language": "python",
   "name": "python3"
  },
  "language_info": {
   "codemirror_mode": {
    "name": "ipython",
    "version": 3
   },
   "file_extension": ".py",
   "mimetype": "text/x-python",
   "name": "python",
   "nbconvert_exporter": "python",
   "pygments_lexer": "ipython3",
   "version": "3.9.7"
  }
 },
 "nbformat": 4,
 "nbformat_minor": 4
}
